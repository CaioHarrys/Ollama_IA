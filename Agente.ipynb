{
 "cells": [
  {
   "cell_type": "markdown",
   "id": "b96f5462",
   "metadata": {},
   "source": [
    "# Ollama LLM\n",
    "\n",
    "- Installar o Ollama\n",
    "- Baixar um modelo pré-treinado (ollama pull \"Modelo\")\n",
    "- Criar Modelofile (Configurações do modelo como ollama version e system)\n",
    "  - FROM modelo\n",
    "  - SYSTEM \"Instruções iniciais\"\n",
    "- Gerar um modelo com base no modelo\n",
    "  - ollama create \"nome_modelo\" -f Modelofile\n"
   ]
  }
 ],
 "metadata": {
  "language_info": {
   "name": "python"
  }
 },
 "nbformat": 4,
 "nbformat_minor": 5
}
