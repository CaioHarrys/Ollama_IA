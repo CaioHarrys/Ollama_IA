{
 "cells": [
  {
   "cell_type": "markdown",
   "id": "b96f5462",
   "metadata": {},
   "source": [
    "# Ollama LLM\n"
   ]
  }
 ],
 "metadata": {
  "language_info": {
   "name": "python"
  }
 },
 "nbformat": 4,
 "nbformat_minor": 5
}
